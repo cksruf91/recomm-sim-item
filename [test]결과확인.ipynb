{
 "cells": [
  {
   "cell_type": "code",
   "execution_count": null,
   "id": "76818c6f-9a01-40fc-a98a-f04dfbf14004",
   "metadata": {},
   "outputs": [],
   "source": [
    "import os\n",
    "\n",
    "import mlflow\n",
    "import faiss\n",
    "import torch\n",
    "import pandas as pd\n",
    "\n",
    "from config import CONFIG"
   ]
  },
  {
   "cell_type": "code",
   "execution_count": null,
   "id": "ad744b75-8d61-4bac-beb2-50ddf79822f6",
   "metadata": {},
   "outputs": [],
   "source": [
    "class SimilarItemSearch:\n",
    "    \n",
    "    def __init__(self, vectors):\n",
    "        vs = vectors.shape[1] # vector size\n",
    "        self.item_size = vectors.shape[0] # vector size\n",
    "        self.index = faiss.IndexFlatL2(vs)\n",
    "        self.index.add(vectors)\n",
    "    \n",
    "    def get_item(self, item_id, k):\n",
    "        if item_id >= self.item_size :\n",
    "            raise IndexError(f' item_id : {item_id}, item_size : {self.item_size}')\n",
    "        query_vector = index.reconstruct(item_id).reshape(1,-1)\n",
    "        \n",
    "        dist, idx = index.search(query_vector, k=k+1)\n",
    "        idx = idx[0][1:]\n",
    "        return idx "
   ]
  },
  {
   "cell_type": "code",
   "execution_count": null,
   "id": "7b0eb50d-2cd1-43ff-9afa-e4dd5ed79b90",
   "metadata": {},
   "outputs": [],
   "source": [
    "model = mlflow.pytorch.load_model('runs:/7b2ecfc6d6a24e15b11c3a094c60a90f/torch_model')\n",
    "param = model.get_vector()\n",
    "sim_item_search = SimilarItemSearch(param)"
   ]
  },
  {
   "cell_type": "code",
   "execution_count": null,
   "id": "f096666f-f66f-402b-b6a5-86bf05de15f2",
   "metadata": {},
   "outputs": [],
   "source": [
    "save_dir = os.path.join(CONFIG.DATA, '1M')\n",
    "train_data = pd.read_csv(os.path.join(save_dir, 'train.tsv'), sep='\\t')\n",
    "test_data = pd.read_csv(os.path.join(save_dir, 'test.tsv'), sep='\\t')\n",
    "item_meta = pd.read_csv(os.path.join(save_dir, 'item_meta.tsv'), sep='\\t', low_memory=False)\n",
    "# user_meta = pd.read_csv(os.path.join(save_dir, 'user_meta.tsv'), sep='\\t')"
   ]
  },
  {
   "cell_type": "code",
   "execution_count": null,
   "id": "eb53c7b2-40a6-48bd-9dd6-0e114ada005f",
   "metadata": {},
   "outputs": [],
   "source": [
    "recommendation = sim_item_search.get_item(1600, k=50)\n",
    "item_meta[item_meta.item_id == 1600]"
   ]
  },
  {
   "cell_type": "code",
   "execution_count": null,
   "id": "7a218820-8e7e-4903-b75c-03aa29c21a91",
   "metadata": {},
   "outputs": [],
   "source": [
    "item_meta[item_meta.item_id == 47]"
   ]
  },
  {
   "cell_type": "code",
   "execution_count": null,
   "id": "0b9290e1-b29e-4b6f-bba0-149e9190d596",
   "metadata": {},
   "outputs": [],
   "source": [
    "pd.concat([item_meta[item_meta.item_id == r] for r in recommendation])"
   ]
  },
  {
   "cell_type": "code",
   "execution_count": null,
   "id": "8810e444-f735-47e4-902a-4104b2608d43",
   "metadata": {},
   "outputs": [],
   "source": [
    "recom_ids = []\n",
    "target_ids = []\n",
    "for iid, pid in zip(test_data.item_id, test_data.prev_item_id):\n",
    "    target_ids.append(iid)\n",
    "    recom_ids.append(\n",
    "        list(sim_item_search.get_item(pid, k=50))\n",
    "    )"
   ]
  },
  {
   "cell_type": "code",
   "execution_count": null,
   "id": "6fe19d4f-c189-4462-82fc-1d7e6ad2362a",
   "metadata": {},
   "outputs": [],
   "source": [
    "from model.metrics import RecallAtK"
   ]
  },
  {
   "cell_type": "code",
   "execution_count": null,
   "id": "4872cb7c-334d-4dc3-b3de-b5187dffdb64",
   "metadata": {},
   "outputs": [],
   "source": [
    "racall_func = RecallAtK()"
   ]
  },
  {
   "cell_type": "code",
   "execution_count": null,
   "id": "b737dbfb-9106-495c-bda1-3965e4689091",
   "metadata": {},
   "outputs": [],
   "source": [
    "str(racall_func), racall_func(recom_ids, target_ids)"
   ]
  },
  {
   "cell_type": "code",
   "execution_count": null,
   "id": "3eaff0f0-3240-4fd6-ae45-ba607a53a64d",
   "metadata": {},
   "outputs": [],
   "source": []
  }
 ],
 "metadata": {
  "kernelspec": {
   "display_name": "sim-item",
   "language": "python",
   "name": "sim-item"
  },
  "language_info": {
   "codemirror_mode": {
    "name": "ipython",
    "version": 3
   },
   "file_extension": ".py",
   "mimetype": "text/x-python",
   "name": "python",
   "nbconvert_exporter": "python",
   "pygments_lexer": "ipython3",
   "version": "3.9.9"
  }
 },
 "nbformat": 4,
 "nbformat_minor": 5
}
